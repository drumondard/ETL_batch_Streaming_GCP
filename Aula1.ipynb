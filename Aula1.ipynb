{
  "nbformat": 4,
  "nbformat_minor": 0,
  "metadata": {
    "colab": {
      "provenance": [],
      "authorship_tag": "ABX9TyPlFczhbsRp+yPMFbpLzgUL",
      "include_colab_link": true
    },
    "kernelspec": {
      "name": "python3",
      "display_name": "Python 3"
    },
    "language_info": {
      "name": "python"
    }
  },
  "cells": [
    {
      "cell_type": "markdown",
      "metadata": {
        "id": "view-in-github",
        "colab_type": "text"
      },
      "source": [
        "<a href=\"https://colab.research.google.com/github/drumondard/ETL_batch_Streaming_GCP/blob/main/Aula1.ipynb\" target=\"_parent\"><img src=\"https://colab.research.google.com/assets/colab-badge.svg\" alt=\"Open In Colab\"/></a>"
      ]
    },
    {
      "cell_type": "code",
      "execution_count": null,
      "metadata": {
        "id": "6HXvWT3bM_TD"
      },
      "outputs": [],
      "source": [
        "# Scrip 3.1\n",
        "!pip install apache-beam[interactive]\n",
        "\n"
      ]
    },
    {
      "cell_type": "code",
      "source": [
        "# Scrip 3.1\n",
        "import apache_beam as beam\n",
        "\n",
        "p1 = beam.Pipeline()\n",
        "\n",
        "Pcollection = (\n",
        "p1\n",
        ")\n",
        "\n",
        "p1.run()"
      ],
      "metadata": {
        "colab": {
          "base_uri": "https://localhost:8080/"
        },
        "id": "tkwN9icoOUug",
        "outputId": "ecd2b43e-d466-4d1a-f41e-25846d97296e"
      },
      "execution_count": 3,
      "outputs": [
        {
          "output_type": "execute_result",
          "data": {
            "text/plain": [
              "<apache_beam.runners.portability.fn_api_runner.fn_runner.RunnerResult at 0x7ff05de0c100>"
            ]
          },
          "metadata": {},
          "execution_count": 3
        }
      ]
    },
    {
      "cell_type": "code",
      "source": [
        "# Scrip 3.2\n",
        "import apache_beam as beam\n",
        "\n",
        "# define pipeline\n",
        "p1 = beam.Pipeline()\n",
        "\n",
        "voos = (\n",
        "p1\n",
        "  # Ler arquivos, e excluir o cabeçalho\n",
        "  # as pipes significem que um comando é usado como input do outro\n",
        "  | \"Importar Dados\" >> beam.io.ReadFromText(\"voos_samples.csv\", skip_head_lines = 1)\n",
        "  | \"Separar por vírgulas\" >> beam.Map(lambda record: record.split(','))\n",
        "  | \"Mostrar Resultados\" >> beam.Map(print)\n",
        ")\n",
        "\n",
        "# comando para executar\n",
        "p1.run()"
      ],
      "metadata": {
        "id": "j0yn0_DZPcqO"
      },
      "execution_count": null,
      "outputs": []
    },
    {
      "cell_type": "code",
      "source": [
        "# Scrip 3.2\n",
        "import apache_beam as beam\n",
        "\n",
        "p1 = beam.Pipeline()\n",
        "\n",
        "p1 | \"Tupla\" >> beam.Create( [ (\"Cassio\",32) , (\"Vics\",21) ] ) | \"print Tupla\" >> beam.Map(print) #tupla\n",
        "p1 | \"Lista\" >> beam.Create ( [ 1,2,3 ] ) |  \"print Lista\" >> beam.Map(print) #lista\n",
        "\n",
        "p1.run()"
      ],
      "metadata": {
        "id": "0MeFQHarPPLx"
      },
      "execution_count": null,
      "outputs": []
    }
  ]
}