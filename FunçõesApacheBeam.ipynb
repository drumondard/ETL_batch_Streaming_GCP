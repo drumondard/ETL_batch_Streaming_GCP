{
  "nbformat": 4,
  "nbformat_minor": 0,
  "metadata": {
    "colab": {
      "provenance": [],
      "authorship_tag": "ABX9TyPfZYu7BbjkbKNMYoVnO4M7",
      "include_colab_link": true
    },
    "kernelspec": {
      "name": "python3",
      "display_name": "Python 3"
    },
    "language_info": {
      "name": "python"
    }
  },
  "cells": [
    {
      "cell_type": "markdown",
      "metadata": {
        "id": "view-in-github",
        "colab_type": "text"
      },
      "source": [
        "<a href=\"https://colab.research.google.com/github/drumondard/ETL_batch_Streaming_GCP/blob/main/Fun%C3%A7%C3%B5esApacheBeam.ipynb\" target=\"_parent\"><img src=\"https://colab.research.google.com/assets/colab-badge.svg\" alt=\"Open In Colab\"/></a>"
      ]
    },
    {
      "cell_type": "code",
      "execution_count": null,
      "metadata": {
        "id": "6HXvWT3bM_TD"
      },
      "outputs": [],
      "source": [
        "# Scrip 3.1\n",
        "!pip install apache-beam[interactive]\n",
        "#!pip install apache-beam\n"
      ]
    },
    {
      "cell_type": "code",
      "source": [
        "# Scrip 3.1\n",
        "import apache_beam as beam\n",
        "\n",
        "p1 = beam.Pipeline()\n",
        "\n",
        "Pcollection = (\n",
        "p1\n",
        ")\n",
        "\n",
        "p1.run()"
      ],
      "metadata": {
        "colab": {
          "base_uri": "https://localhost:8080/"
        },
        "id": "tkwN9icoOUug",
        "outputId": "ecd2b43e-d466-4d1a-f41e-25846d97296e"
      },
      "execution_count": null,
      "outputs": [
        {
          "output_type": "execute_result",
          "data": {
            "text/plain": [
              "<apache_beam.runners.portability.fn_api_runner.fn_runner.RunnerResult at 0x7ff05de0c100>"
            ]
          },
          "metadata": {},
          "execution_count": 3
        }
      ]
    },
    {
      "cell_type": "code",
      "source": [
        "# Scrip 3.2\n",
        "import apache_beam as beam\n",
        "\n",
        "# define pipeline\n",
        "p1 = beam.Pipeline()\n",
        "\n",
        "voos = (\n",
        "p1\n",
        "  # Ler arquivos, e excluir o cabeçalho\n",
        "  # as pipes significem que um comando é usado como input do outro\n",
        "  | \"Importar Dados\" >> beam.io.ReadFromText(\"voos_sample.csv\", skip_header_lines = 1)\n",
        "  | \"Separar por vírgulas\" >> beam.Map(lambda record: record.split(','))\n",
        "  | \"Mostrar Resultados\" >> beam.Map(print)\n",
        ")\n",
        "\n",
        "# comando para executar\n",
        "p1.run()"
      ],
      "metadata": {
        "colab": {
          "base_uri": "https://localhost:8080/",
          "height": 364
        },
        "id": "j0yn0_DZPcqO",
        "outputId": "8cb1f412-88ae-465a-c816-109ff919332d"
      },
      "execution_count": null,
      "outputs": [
        {
          "output_type": "display_data",
          "data": {
            "application/javascript": [
              "\n",
              "        if (typeof window.interactive_beam_jquery == 'undefined') {\n",
              "          var jqueryScript = document.createElement('script');\n",
              "          jqueryScript.src = 'https://code.jquery.com/jquery-3.4.1.slim.min.js';\n",
              "          jqueryScript.type = 'text/javascript';\n",
              "          jqueryScript.onload = function() {\n",
              "            var datatableScript = document.createElement('script');\n",
              "            datatableScript.src = 'https://cdn.datatables.net/1.10.20/js/jquery.dataTables.min.js';\n",
              "            datatableScript.type = 'text/javascript';\n",
              "            datatableScript.onload = function() {\n",
              "              window.interactive_beam_jquery = jQuery.noConflict(true);\n",
              "              window.interactive_beam_jquery(document).ready(function($){\n",
              "                \n",
              "              });\n",
              "            }\n",
              "            document.head.appendChild(datatableScript);\n",
              "          };\n",
              "          document.head.appendChild(jqueryScript);\n",
              "        } else {\n",
              "          window.interactive_beam_jquery(document).ready(function($){\n",
              "            \n",
              "          });\n",
              "        }"
            ]
          },
          "metadata": {}
        },
        {
          "output_type": "stream",
          "name": "stdout",
          "text": [
            "['2019-04-27', '19805', '2', 'LAX', 'JFK', '944', '14', '1736', '-29', '269', '2475', '2']\n",
            "['2019-04-27', '19805', '3', 'JFK', 'LAX', '1224', '-6', '1614', '39', '371', '2475', '3']\n",
            "['2019-04-27', '19805', '4', 'LAX', 'JFK', '1240', '25', '2028', '-27', '264', '2475', '4']\n",
            "['2019-04-27', '19805', '5', 'DFW', 'HNL', '1300', '-5', '1650', '15', '510', '3784', '5']\n",
            "['2019-04-27', '19805', '6', 'OGG', 'DFW', '1901', '126', '640', '95', '385', '3711', '6']\n",
            "['2019-04-27', '19805', '7', 'DFW', 'OGG', '1410', '125', '1743', '138', '497', '3711', '7']\n",
            "['2019-04-27', '19805', '8', 'HNL', 'DFW', '1659', '4', '458', '-22', '398', '3784', '8']\n",
            "['2019-04-27', '19805', '9', 'JFK', 'LAX', '648', '-7', '1029', '19', '365', '2475', '9']\n",
            "['2019-04-27', '19805', '10', 'LAX', 'JFK', '2156', '21', '556', '1', '265', '2475', '10']\n",
            "['2019-04-27', '19805', '12', 'LAX', 'JFK', '1113', '-2', '1910', '-40', '267', '2475', '11']\n",
            "['2019-04-27', '19805', '14', 'OGG', 'LAX', '2235', '5', '618', '-17', '270', '2486', '12']\n",
            "['2019-04-27', '19805', '15', 'BOS', 'ORD', '611', '-9', '756', '-19', '129', '867', '13']\n",
            "['2019-04-27', '19805', '16', 'SFO', 'JFK', '1312', '17', '2107', '-33', '268', '2586', '14']\n",
            "['2019-04-27', '19805', '17', 'ATL', 'MIA', '630', '-5', '813', '-17', '83', '594', '15']\n",
            "['2019-04-27', '19805', '18', 'SFO', 'JFK', '22', '112', '833', '88', '288', '2586', '16']\n",
            "['2019-04-27', '19805', '19', 'JFK', 'LAX', '1024', '-6', '1353', '18', '359', '2475', '17']\n",
            "['2019-04-27', '19805', '20', 'SFO', 'JFK', '1715', '135', '130', '120', '277', '2586', '18']\n",
            "['2019-04-27', '19805', '21', 'JFK', 'LAX', '1906', '-4', '2246', '16', '359', '2475', '19']\n",
            "['2019-04-27', '19805', '22', 'LAX', 'JFK', '1458', '-2', '2336', '11', '272', '2475', '20']\n"
          ]
        },
        {
          "output_type": "execute_result",
          "data": {
            "text/plain": [
              "<apache_beam.runners.portability.fn_api_runner.fn_runner.RunnerResult at 0x7ff05bcdafa0>"
            ]
          },
          "metadata": {},
          "execution_count": 13
        }
      ]
    },
    {
      "cell_type": "code",
      "source": [
        "# Scrip 3.2\n",
        "import apache_beam as beam\n",
        "\n",
        "p1 = beam.Pipeline()\n",
        "\n",
        "p1 | \"Tupla\" >> beam.Create( [ (\"Cassio\",32) , (\"Vics\",21) ] ) | \"print Tupla\" >> beam.Map(print) #tupla\n",
        "p1 | \"Lista\" >> beam.Create ( [ 1,2,3 ] ) |  \"print Lista\" >> beam.Map(print) #lista\n",
        "\n",
        "p1.run()"
      ],
      "metadata": {
        "colab": {
          "base_uri": "https://localhost:8080/"
        },
        "id": "0MeFQHarPPLx",
        "outputId": "d52022c4-d187-4f97-b711-45daaa17f726"
      },
      "execution_count": null,
      "outputs": [
        {
          "output_type": "stream",
          "name": "stdout",
          "text": [
            "1\n",
            "2\n",
            "3\n"
          ]
        },
        {
          "output_type": "execute_result",
          "data": {
            "text/plain": [
              "<apache_beam.runners.portability.fn_api_runner.fn_runner.RunnerResult at 0x7ff05abd8730>"
            ]
          },
          "metadata": {},
          "execution_count": 16
        }
      ]
    },
    {
      "cell_type": "code",
      "source": [
        "# Scrip 3.3\n",
        "import apache_beam as beam\n",
        "\n",
        "p1 = beam.Pipeline()\n",
        "\n",
        "voos = (\n",
        "p1\n",
        "  | \"Importar Dados\" >> beam.io.ReadFromText(\"voos_sample.csv\", skip_header_lines = 1)\n",
        "  | \"Separar por Vírgulas\" >> beam.Map(lambda record: record.split(','))\n",
        "  | \"Gravar Resultado\" >> beam.io.WriteToText(\"voos.txt\")\n",
        ")\n",
        "\n",
        "p1.run()\n"
      ],
      "metadata": {
        "colab": {
          "base_uri": "https://localhost:8080/"
        },
        "id": "txUl7UTmVyYE",
        "outputId": "07de6605-eaea-49e4-e079-0230e666b81f"
      },
      "execution_count": null,
      "outputs": [
        {
          "output_type": "execute_result",
          "data": {
            "text/plain": [
              "<apache_beam.runners.portability.fn_api_runner.fn_runner.RunnerResult at 0x7ff05aae3e20>"
            ]
          },
          "metadata": {},
          "execution_count": 17
        }
      ]
    },
    {
      "cell_type": "code",
      "source": [
        "# Scrip 3.4 Map e Flat Map\n",
        "import apache_beam as beam\n",
        "\n",
        "p1 = beam.Pipeline()\n",
        "\n",
        "Collection = (\n",
        "    p1\n",
        "    |beam.io.ReadFromText('poema.txt')\n",
        "    |beam.FlatMap(lambda record: record.split(' '))\n",
        "    |beam.io.WriteToText('resultado.txt')\n",
        ")\n",
        "p1.run()"
      ],
      "metadata": {
        "colab": {
          "base_uri": "https://localhost:8080/"
        },
        "id": "3qLs5NEuWrLe",
        "outputId": "1db7f814-911e-4809-8eb6-e083c754cc6d"
      },
      "execution_count": null,
      "outputs": [
        {
          "output_type": "execute_result",
          "data": {
            "text/plain": [
              "<apache_beam.runners.portability.fn_api_runner.fn_runner.RunnerResult at 0x7ff05abbd100>"
            ]
          },
          "metadata": {},
          "execution_count": 18
        }
      ]
    },
    {
      "cell_type": "code",
      "source": [
        "# Scrip 3.5 Filter + Lambda\n",
        "import apache_beam as beam\n",
        "\n",
        "p1 = beam.Pipeline()\n",
        "\n",
        "voos = (\n",
        "p1\n",
        "  | \"Importar Dados\" >> beam.io.ReadFromText(\"voos_sample.csv\", skip_header_lines = 1)\n",
        "  | \"Separar por Vírgulas\" >> beam.Map(lambda record: record.split(','))\n",
        "  | \"Pegar voos de Los Angeles\" >> beam.Filter(lambda record: record[3] == \"LAX\")\n",
        "  | \"Mostrar Resultados\" >> beam.Map(print)\n",
        ")\n",
        "\n",
        "p1.run()"
      ],
      "metadata": {
        "colab": {
          "base_uri": "https://localhost:8080/"
        },
        "id": "-xoR5EG_Xwu5",
        "outputId": "2f115051-b3e9-4dda-aed8-cbdfc4df7195"
      },
      "execution_count": null,
      "outputs": [
        {
          "output_type": "stream",
          "name": "stdout",
          "text": [
            "['2019-04-27', '19805', '2', 'LAX', 'JFK', '944', '14', '1736', '-29', '269', '2475', '2']\n",
            "['2019-04-27', '19805', '4', 'LAX', 'JFK', '1240', '25', '2028', '-27', '264', '2475', '4']\n",
            "['2019-04-27', '19805', '10', 'LAX', 'JFK', '2156', '21', '556', '1', '265', '2475', '10']\n",
            "['2019-04-27', '19805', '12', 'LAX', 'JFK', '1113', '-2', '1910', '-40', '267', '2475', '11']\n",
            "['2019-04-27', '19805', '22', 'LAX', 'JFK', '1458', '-2', '2336', '11', '272', '2475', '20']\n"
          ]
        },
        {
          "output_type": "execute_result",
          "data": {
            "text/plain": [
              "<apache_beam.runners.portability.fn_api_runner.fn_runner.RunnerResult at 0x7ff05aa60a90>"
            ]
          },
          "metadata": {},
          "execution_count": 19
        }
      ]
    },
    {
      "cell_type": "code",
      "source": [
        "# Scrip 3.5 Filter + Lista\n",
        "import apache_beam as beam\n",
        "\n",
        "palavras=['quatro','um']\n",
        "\n",
        "def encontrarPalavras( i ):\n",
        " if i in palavras:\n",
        "    return True\n",
        "\n",
        "p1 = beam.Pipeline()\n",
        "\n",
        "Collection = (\n",
        "    p1\n",
        "    |beam.io.ReadFromText('poema.txt')\n",
        "    |beam.FlatMap(lambda record: record.split(' '))\n",
        "    |beam.Filter(encontrarPalavras)\n",
        "    |beam.io.WriteToText('resultado.txt')\n",
        ")\n",
        "p1.run()"
      ],
      "metadata": {
        "colab": {
          "base_uri": "https://localhost:8080/"
        },
        "id": "uvY7HfWvYMVc",
        "outputId": "0b8e7b9c-ed57-42bf-86de-0abf7ea9d602"
      },
      "execution_count": null,
      "outputs": [
        {
          "output_type": "execute_result",
          "data": {
            "text/plain": [
              "<apache_beam.runners.portability.fn_api_runner.fn_runner.RunnerResult at 0x7ff05aa84910>"
            ]
          },
          "metadata": {},
          "execution_count": 20
        }
      ]
    },
    {
      "cell_type": "code",
      "source": [
        "# Scrip 3.6 Flatten\n",
        "import apache_beam as beam\n",
        "\n",
        "p = beam.Pipeline()\n",
        "\n",
        "negros = ('Adão','Jesus','Mike')\n",
        "brancos = ('Tulio','Mary','Joca')\n",
        "indios = ('Vic','Marta','Tom')\n",
        "\n",
        "negros_pc = p | \"Criando Pcollection negros\" >> beam.Create(negros)\n",
        "brancos_pc = p | \"Criando Pcollection brancos\" >> beam.Create(brancos)\n",
        "indios_pc = p | \"Criando Pcollection indios\" >> beam.Create(indios)\n",
        "\n",
        "pessoas = ((negros_pc,brancos_pc,indios_pc) | beam.Flatten()) | beam.Map(print)\n",
        "p.run()"
      ],
      "metadata": {
        "colab": {
          "base_uri": "https://localhost:8080/"
        },
        "id": "O_oPUiCNYgdN",
        "outputId": "9ed8378e-e308-41ba-8f03-80b8f1bc6e0f"
      },
      "execution_count": null,
      "outputs": [
        {
          "output_type": "stream",
          "name": "stdout",
          "text": [
            "Tulio\n",
            "Mary\n",
            "Joca\n",
            "Vic\n",
            "Marta\n",
            "Tom\n",
            "Adão\n",
            "Jesus\n",
            "Mike\n"
          ]
        },
        {
          "output_type": "execute_result",
          "data": {
            "text/plain": [
              "<apache_beam.runners.portability.fn_api_runner.fn_runner.RunnerResult at 0x7ff05a9dbee0>"
            ]
          },
          "metadata": {},
          "execution_count": 21
        }
      ]
    },
    {
      "cell_type": "code",
      "source": [
        "# Scrip 3.7 CombinePerkey\n",
        "import apache_beam as beam\n",
        "\n",
        "p1 = beam.Pipeline()\n",
        "\n",
        "Tempo_Atrasos = (\n",
        "p1\n",
        "  | \"Importar Dados\" >> beam.io.ReadFromText(\"voos_sample.csv\")\n",
        "  | \"Separar por Vírgulas\" >> beam.Map(lambda record: record.split(','))\n",
        "  | \"Pegar voos de Los Angeles\" >> beam.Filter(lambda record: int(record[8]) > 0 )\n",
        "  | \"Criar par\" >> beam.Map(lambda record: (record[4],int(record[8])))\n",
        "  | \"Somar por key\" >> beam.CombinePerKey(sum)\n",
        "  | \"Mostrar Resultados\" >> beam.Map(print)\n",
        ")\n",
        "\n",
        "p1.run()"
      ],
      "metadata": {
        "colab": {
          "base_uri": "https://localhost:8080/"
        },
        "id": "EZgg0-flc-e5",
        "outputId": "84766616-ad1a-4d19-a8a6-b69cd2799b14"
      },
      "execution_count": null,
      "outputs": [
        {
          "output_type": "stream",
          "name": "stdout",
          "text": [
            "('LAX', 94)\n",
            "('HNL', 15)\n",
            "('DFW', 95)\n",
            "('OGG', 138)\n",
            "('JFK', 220)\n"
          ]
        },
        {
          "output_type": "execute_result",
          "data": {
            "text/plain": [
              "<apache_beam.runners.portability.fn_api_runner.fn_runner.RunnerResult at 0x7ff05ab7a940>"
            ]
          },
          "metadata": {},
          "execution_count": 22
        }
      ]
    },
    {
      "cell_type": "code",
      "source": [
        "# Scrip 3.8 Combiners Count\n",
        "import apache_beam as beam\n",
        "\n",
        "p1 = beam.Pipeline()\n",
        "\n",
        "Qtd_Atrasos = (\n",
        "    p1\n",
        "    | \"Importar Dados\" >> beam.io.ReadFromText(\"voos_sample.csv\", skip_header_lines = 1)\n",
        "    | \"Separar por Vírgulas\" >> beam.Map(lambda record: record.split(','))\n",
        "    | \"Pegar voos de Los Angeles\" >> beam.Filter(lambda record: int(record[8]) > 0 )\n",
        "    | \"Criar par\" >> beam.Map(lambda record: (record[4],int(record[8])))\n",
        "    | \"Contar por key\" >> beam.combiners.Count.PerKey()\n",
        "    | \"Mostrar Resultados\" >> beam.Map(print)\n",
        ")\n",
        "\n",
        "p1.run()"
      ],
      "metadata": {
        "id": "HLih8CPrdebT"
      },
      "execution_count": null,
      "outputs": []
    },
    {
      "cell_type": "code",
      "source": [
        "# Scrip 3.9 CoGoupByKey\n",
        "import apache_beam as beam\n",
        "\n",
        "p1 = beam.Pipeline()\n",
        "\n",
        "Tempo_Atrasos = (\n",
        "  p1\n",
        "  | \"Importar Dados Atraso\" >> beam.io.ReadFromText(\"voos_sample.csv\", skip_header_lines = 1)\n",
        "  | \"Separar por Vírgulas Atraso\" >> beam.Map(lambda record: record.split(','))\n",
        "  | \"Pegar voos com atraso\" >> beam.Filter(lambda record: int(record[8]) > 0 )\n",
        "  | \"Criar par atraso\" >> beam.Map(lambda record: (record[4],int(record[8])))\n",
        "  | \"Somar por key\" >> beam.CombinePerKey(sum)\n",
        "#  | \"Mostrar Resultados\" >> beam.Map(print)\n",
        ")\n",
        "\n",
        "Qtd_Atrasos = (\n",
        "  p1\n",
        "  | \"Importar Dados\" >> beam.io.ReadFromText(\"voos_sample.csv\", skip_header_lines = 1)\n",
        "  | \"Separar por Vírgulas\" >> beam.Map(lambda record: record.split(','))\n",
        "  | \"Pegar voos com atraso qtd\" >> beam.Filter(lambda record: int(record[8]) > 0 )\n",
        "  | \"Criar par qtd\" >> beam.Map(lambda record: (record[4],int(record[8])))\n",
        "  | \"Contar por key\" >> beam.combiners.Count.PerKey()\n",
        "#  | \"Mostrar Resultados QTD\" >> beam.Map(print)\n",
        ")\n",
        "\n",
        "tabela_atrasos = (\n",
        "    {'Qtd_Atrasos':Qtd_Atrasos,'Tempo_Atrasos':Tempo_Atrasos} \n",
        "    | \"Group By\" >> beam.CoGroupByKey()\n",
        "    | beam.Map(print)\n",
        ")\n",
        "\n",
        "p1.run()"
      ],
      "metadata": {
        "colab": {
          "base_uri": "https://localhost:8080/"
        },
        "id": "M9gp-C3_d21A",
        "outputId": "3ff48865-a5fa-4c3e-e7e9-0ae16988802f"
      },
      "execution_count": null,
      "outputs": [
        {
          "output_type": "stream",
          "name": "stdout",
          "text": [
            "('LAX', {'Qtd_Atrasos': [4], 'Tempo_Atrasos': [92]})\n",
            "('HNL', {'Qtd_Atrasos': [1], 'Tempo_Atrasos': [15]})\n",
            "('DFW', {'Qtd_Atrasos': [1], 'Tempo_Atrasos': [95]})\n",
            "('OGG', {'Qtd_Atrasos': [1], 'Tempo_Atrasos': [138]})\n",
            "('JFK', {'Qtd_Atrasos': [4], 'Tempo_Atrasos': [220]})\n"
          ]
        },
        {
          "output_type": "execute_result",
          "data": {
            "text/plain": [
              "<apache_beam.runners.portability.fn_api_runner.fn_runner.RunnerResult at 0x7ff08c169790>"
            ]
          },
          "metadata": {},
          "execution_count": 23
        }
      ]
    },
    {
      "cell_type": "code",
      "source": [
        "# Scrip 3.10 ParDo\n",
        "import apache_beam as beam\n",
        "\n",
        "p1 = beam.Pipeline()\n",
        "\n",
        "class filtro(beam.DoFn):\n",
        "  def process(self,record):\n",
        "    if int(record[8]) > 0:\n",
        "      return [record]\n",
        "\n",
        "Tempo_Atrasos = (\n",
        "  p1\n",
        "  | \"Importar Dados Atraso\" >> beam.io.ReadFromText(r\"voos_sample.csv\", skip_header_lines = 1)\n",
        "  | \"Separar por Vírgulas Atraso\" >> beam.Map(lambda record: record.split(','))\n",
        "  | \"Pegar voos com atraso\" >> beam.ParDo(filtro())\n",
        "  | \"Criar par atraso\" >> beam.Map(lambda record: (record[4],int(record[8])))\n",
        "  | \"Somar por key\" >> beam.CombinePerKey(sum)\n",
        "#  | \"Mostrar Resultados\" >> beam.Map(print)\n",
        ")\n",
        "\n",
        "Qtd_Atrasos = (\n",
        "  p1\n",
        "  | \"Importar Dados\" >> beam.io.ReadFromText(r\"voos_sample.csv\", skip_header_lines = 1)\n",
        "  | \"Separar por Vírgulas Qtd\" >> beam.Map(lambda record: record.split(','))\n",
        "  | \"Pegar voos com Qtd\" >> beam.ParDo(filtro())\n",
        "  | \"Criar par Qtd\" >> beam.Map(lambda record: (record[4],int(record[8])))\n",
        "  | \"Contar por key\" >> beam.combiners.Count.PerKey()\n",
        "#  | \"Mostrar Resultados QTD\" >> beam.Map(print)\n",
        ")\n",
        "\n",
        "tabela_atrasos = (\n",
        "    {'Qtd_Atrasos':Qtd_Atrasos,'Tempo_Atrasos':Tempo_Atrasos} \n",
        "    | \"Group By\" >> beam.CoGroupByKey()\n",
        "    | beam.Map(print)\n",
        ")\n",
        "\n",
        "p1.run()"
      ],
      "metadata": {
        "colab": {
          "base_uri": "https://localhost:8080/"
        },
        "id": "tiGguJtxebE7",
        "outputId": "62f643ca-1941-4ded-be02-c9f1c9ada8e8"
      },
      "execution_count": null,
      "outputs": [
        {
          "output_type": "stream",
          "name": "stdout",
          "text": [
            "('LAX', {'Qtd_Atrasos': [4], 'Tempo_Atrasos': [92]})\n",
            "('HNL', {'Qtd_Atrasos': [1], 'Tempo_Atrasos': [15]})\n",
            "('DFW', {'Qtd_Atrasos': [1], 'Tempo_Atrasos': [95]})\n",
            "('OGG', {'Qtd_Atrasos': [1], 'Tempo_Atrasos': [138]})\n",
            "('JFK', {'Qtd_Atrasos': [4], 'Tempo_Atrasos': [220]})\n"
          ]
        },
        {
          "output_type": "execute_result",
          "data": {
            "text/plain": [
              "<apache_beam.runners.portability.fn_api_runner.fn_runner.RunnerResult at 0x7ff05ca0a0a0>"
            ]
          },
          "metadata": {},
          "execution_count": 25
        }
      ]
    }
  ]
}